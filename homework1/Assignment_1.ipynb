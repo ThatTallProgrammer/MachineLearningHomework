{
 "cells": [
  {
   "cell_type": "markdown",
   "metadata": {
    "colab_type": "text",
    "id": "m_R4z-lmbSjo"
   },
   "source": [
    "<h2>Assignment 1 - Linear Regression on Boston Housing Data</h2>"
   ]
  },
  {
   "cell_type": "code",
   "execution_count": 1,
   "metadata": {
    "colab": {},
    "colab_type": "code",
    "id": "WJ3cJxt3bSjp"
   },
   "outputs": [],
   "source": [
    "# The modules we're going to use\n",
    "from __future__ import print_function\n",
    "from sklearn import preprocessing\n",
    "from sklearn.model_selection import train_test_split\n",
    "from sklearn import datasets, linear_model\n",
    "from sklearn.metrics import mean_squared_error\n",
    "from scipy import linalg\n",
    "import numpy as np\n",
    "import matplotlib.pyplot as plt\n",
    "\n",
    "# When you execute a code to plot with a simple SHIFT-ENTER, the plot will be shown directly under the code cell\n",
    "%matplotlib inline"
   ]
  },
  {
   "cell_type": "code",
   "execution_count": 2,
   "metadata": {
    "colab": {},
    "colab_type": "code",
    "id": "VXXIgKFJbSjr"
   },
   "outputs": [],
   "source": [
    "# Load data from scikit-learn, which returns (data, target)\n",
    "# note: if you call \"boston = load_boston()\", it returns a dictionary-like object\n",
    "data, target = datasets.load_boston(True)\n",
    "\n",
    "# Split the data into two parts: training data and testing data\n",
    "train_data,test_data,train_target,test_target = train_test_split(data,(target[:, np.newaxis]), test_size=0.2, random_state=42)"
   ]
  },
  {
   "cell_type": "markdown",
   "metadata": {
    "colab_type": "text",
    "id": "NA3ezrA-bSjt"
   },
   "source": [
    "<h4>Use scikit-learn library in the following cell</h4>"
   ]
  },
  {
   "cell_type": "code",
   "execution_count": 3,
   "metadata": {
    "colab": {},
    "colab_type": "code",
    "id": "hlqomvfpbSjt"
   },
   "outputs": [
    {
     "name": "stdout",
     "output_type": "stream",
     "text": [
      "W0 : 30.247\n",
      "W1 : -0.11306\n",
      "W2 : 0.03011\n",
      "W3 : 0.04038\n",
      "W4 : 2.78444\n",
      "W5 : -17.20263\n",
      "W6 : 4.43884\n",
      "W7 : -0.00630\n",
      "W8 : -1.44787\n",
      "W9 : 0.26243\n",
      "W10: -0.01065\n",
      "W11: -0.91546\n",
      "W12: 0.01235\n",
      "W13: -0.50857\n",
      "Training Set MSE: 10.82071\n",
      "Test Set MSE: 12.14556\n"
     ]
    }
   ],
   "source": [
    "# Task 1-1: use linear regression in sklearn\n",
    "model = linear_model.LinearRegression().fit(train_data, train_target)\n",
    "\n",
    "\n",
    "# Task 1-2: show intercept and coefficents\n",
    "print('W0 : {:2.5}'.format(model.intercept_[0]))\n",
    "coefs = model.coef_[0]\n",
    "for i in range(len(coefs)):\n",
    "    print('W{:<2}: {:.5f}'.format(i + 1, coefs[i]))\n",
    "\n",
    "# Task 1-3: show errors on training dataset and testing dataset\n",
    "train_predict = model.predict(train_data)\n",
    "test_predict = model.predict(test_data)\n",
    "train_error = mean_squared_error(train_target, train_predict) / 2\n",
    "test_error = mean_squared_error(test_target, test_predict) / 2\n",
    "\n",
    "print('Training Set MSE: {:.5f}'.format(train_error))\n",
    "print('Test Set MSE: {:.5f}'.format(test_error))\n"
   ]
  },
  {
   "cell_type": "markdown",
   "metadata": {
    "colab_type": "text",
    "id": "RpX2tOa5bSjv"
   },
   "source": [
    "<h4>Use analytical solution (normal equation) to perform linear regression in the following cell</h4>"
   ]
  },
  {
   "cell_type": "code",
   "execution_count": 4,
   "metadata": {
    "colab": {},
    "colab_type": "code",
    "id": "YZJJ0sUGbSjv"
   },
   "outputs": [
    {
     "name": "stdout",
     "output_type": "stream",
     "text": [
      "W0 : 30.24675\n",
      "W1 : -0.11306\n",
      "W2 : 0.03011\n",
      "W3 : 0.04038\n",
      "W4 : 2.78444\n",
      "W5 : -17.20263\n",
      "W6 : 4.43884\n",
      "W7 : -0.00630\n",
      "W8 : -1.44787\n",
      "W9 : 0.26243\n",
      "W10: -0.01065\n",
      "W11: -0.91546\n",
      "W12: 0.01235\n",
      "W13: -0.50857\n",
      "Training Set MSE: 10.82071\n",
      "Test Set MSE: 12.14556\n"
     ]
    }
   ],
   "source": [
    "# Task 2-1: Implement a function solving normal equation \n",
    "# Inputs: Training data and  training label\n",
    "# Output: Weights\n",
    "def myNormalEqualFun(X,y):\n",
    "    return np.matmul(np.matmul(linalg.inv(np.matmul(np.transpose(X), X)), np.transpose(X)), y)  \n",
    "    \n",
    "# Task 2-2: Implement a function performing prediction\n",
    "# Inputs: Testing data and weights\n",
    "# Output: Predictions\n",
    "def myPredictFun(X,w):\n",
    "    return np.matmul(X, w)\n",
    "\n",
    "# Here we insert a column of 1s into training_data and test_data (to be consistent with our lecture slides)\n",
    "train_data_intercept = np.insert(train_data, 0, 1, axis=1)\n",
    "test_data_intercept = np.insert(test_data, 0, 1, axis=1)\n",
    "\n",
    "# Here we call myNormalEqual to train the model and get weights\n",
    "w = myNormalEqualFun(train_data_intercept,train_target)\n",
    "\n",
    "# Task 2-3: show intercept and coefficents\n",
    "for i in range(len(w)):\n",
    "    print(\"W{:<2}: {:.5f}\".format(i, w[i][0]))\n",
    "\n",
    "# Task 2-4: show errors on training dataset and testing dataset\n",
    "train_predict = myPredictFun(train_data_intercept, w)\n",
    "test_predict = myPredictFun(test_data_intercept, w)\n",
    "train_error = mean_squared_error(train_predict, train_target) / 2\n",
    "test_error = mean_squared_error(test_predict, test_target) / 2\n",
    "\n",
    "print('Training Set MSE: {:.5f}'.format(train_error))\n",
    "print('Test Set MSE: {:.5f}'.format(test_error))"
   ]
  },
  {
   "cell_type": "markdown",
   "metadata": {
    "colab_type": "text",
    "id": "1hhVEfixbSjx"
   },
   "source": [
    "<h4>Use numerical solution (baisc gradient descent) to perform linear regression in the following cell</h4>"
   ]
  },
  {
   "cell_type": "code",
   "execution_count": 20,
   "metadata": {
    "colab": {},
    "colab_type": "code",
    "id": "3H1IxOBubSjy"
   },
   "outputs": [
    {
     "name": "stdout",
     "output_type": "stream",
     "text": [
      "W0 : 22.78908\n",
      "W1 : -0.95769\n",
      "W2 : 0.59324\n",
      "W3 : 0.11306\n",
      "W4 : 0.74669\n",
      "W5 : -1.91718\n",
      "W6 : 3.18036\n",
      "W7 : -0.20479\n",
      "W8 : -3.01764\n",
      "W9 : 1.84088\n",
      "W10: -1.31544\n",
      "W11: -2.00682\n",
      "W12: 1.12967\n",
      "W13: -3.56403\n",
      "Training Set MSE: 10.83679\n",
      "Test Set MSE: 12.26761\n"
     ]
    },
    {
     "data": {
      "image/png": "[encoded data removed]",
      "text/plain": [
       "<Figure size 432x288 with 1 Axes>"
      ]
     },
     "metadata": {
      "needs_background": "light"
     },
     "output_type": "display_data"
    }
   ],
   "source": [
    "# Feature scaling\n",
    "scaler = preprocessing.StandardScaler().fit(train_data)\n",
    "train_data = scaler.transform(train_data)\n",
    "test_data = scaler.transform(test_data)\n",
    "\n",
    "\n",
    "# Task 3-1: Implement a function performing gradient descent\n",
    "# Inputs: Training data, training label, leaerning rate, number of iterations\n",
    "# Output: the final Weights\n",
    "#         the loss history along iterations\n",
    "#\n",
    "# **Added test data arguments to track test loss over epochs**\n",
    "def myGradientDescentFun(X_train,X_test,y_train,y_test,learning_rate,numItrs):\n",
    "    \n",
    "    # create random weights\n",
    "    w = 20 * np.random.rand(X_train.shape[1], 1) - 10\n",
    "    \n",
    "    # stores the training loss at first index and \n",
    "    # the testing loss at second index\n",
    "    loss = [list(), list()]\n",
    "    \n",
    "    for _ in range(numItrs):\n",
    "        # loss and gradient share this calculation\n",
    "        # calculating here saves operations\n",
    "        u = y_train - np.matmul(X_train, w)\n",
    "        v = y_test - np.matmul(X_test, w)\n",
    "        \n",
    "        # store loss from training data\n",
    "        loss[0].append(np.matmul(np.transpose(u), u)[0][0] / len(X_train))\n",
    "        \n",
    "        # store loss from testing data\n",
    "        loss[1].append(np.matmul(np.transpose(v), v)[0][0] / len(X_test))\n",
    "        \n",
    "        # take a step opposite the gradient value\n",
    "        w = w + learning_rate * np.sign(np.matmul(np.transpose(X_train), u))\n",
    "        \n",
    "    return w, loss\n",
    "\n",
    "# Task 3-2: Implement a function performing prediction\n",
    "# Inputs: Testing data and weights\n",
    "# Output: Predictions\n",
    "def myPredictFun(X,w):\n",
    "    return np.matmul(X, w)\n",
    "\n",
    "# Here we insert a column of 1s into training_data and test_data (to be consistent with our lecture slides)\n",
    "train_data_intercept = np.insert(train_data, 0, 1, axis=1)\n",
    "test_data_intercept = np.insert(test_data, 0, 1, axis=1)\n",
    "\n",
    "# Here we call myGradientDescentFun to train the model and get weights\n",
    "# Note: you need to figure out good learning rate value and the number of iterations\n",
    "w, loss = myGradientDescentFun(train_data_intercept,test_data_intercept,train_target,test_target,0.01,1600\n",
    "                              )\n",
    "\n",
    "# Task 3-3: show intercept and coefficents\n",
    "for i in range(len(w)):\n",
    "    print(\"W{:<2}: {:.5f}\".format(i, w[i][0]))\n",
    "\n",
    "# Task 3-4: show errors on training dataset and testing dataset\n",
    "train_predict = myPredictFun(train_data_intercept, w)\n",
    "test_predict = myPredictFun(test_data_intercept, w)\n",
    "train_error = mean_squared_error(train_predict, train_target) / 2\n",
    "test_error = mean_squared_error(test_predict, test_target) / 2\n",
    "\n",
    "print('Training Set MSE: {:.5f}'.format(train_error))\n",
    "print('Test Set MSE: {:.5f}'.format(test_error))\n",
    "\n",
    "\n",
    "# Task 3-5: plot learning curves showing training errors and testing errors along iterations\n",
    "plt.plot(range(len(loss[0])), loss[0], color='blue')  # training loss\n",
    "plt.plot(range(len(loss[1])), loss[1], color='green') # testing loss\n",
    "plt.ylabel('Loss')\n",
    "plt.xlabel('Epochs')\n",
    "plt.title('Training Progress over Epochs')\n",
    "plt.gca().legend(('Train', 'Test'))\n",
    "plt.show()"
   ]
  },
  {
   "cell_type": "markdown",
   "metadata": {
    "colab_type": "text",
    "id": "Rx1UOqmfcNe0"
   },
   "source": [
    "<h4>Use numerical solution (stochastic gradient descent) to perform linear regression in the following cell</h4>"
   ]
  },
  {
   "cell_type": "code",
   "execution_count": 19,
   "metadata": {
    "colab": {},
    "colab_type": "code",
    "id": "96_WVyVKcNss"
   },
   "outputs": [
    {
     "name": "stdout",
     "output_type": "stream",
     "text": [
      "W0 : 22.80495\n",
      "W1 : -0.34201\n",
      "W2 : 0.48646\n",
      "W3 : -1.00957\n",
      "W4 : 0.25168\n",
      "W5 : -2.38335\n",
      "W6 : 2.56506\n",
      "W7 : 0.42704\n",
      "W8 : -3.71597\n",
      "W9 : -1.08593\n",
      "W10: 1.40472\n",
      "W11: -2.09735\n",
      "W12: 1.31849\n",
      "W13: -4.07036\n",
      "Training Set MSE: 12.21855\n",
      "Test Set MSE: 13.65981\n"
     ]
    },
    {
     "data": {
      "image/png": "[encoded data removed]",
      "text/plain": [
       "<Figure size 432x288 with 1 Axes>"
      ]
     },
     "metadata": {
      "needs_background": "light"
     },
     "output_type": "display_data"
    }
   ],
   "source": [
    "# Feature scaling\n",
    "scaler = preprocessing.StandardScaler().fit(train_data)\n",
    "train_data = scaler.transform(train_data)\n",
    "test_data = scaler.transform(test_data)\n",
    "\n",
    "# Task 4-1: Implement a function performing gradient descent\n",
    "# Inputs: Training data, training label, leaerning rate, number of epoches, batch size\n",
    "# Output: the final Weights\n",
    "#         the loss history along batches\n",
    "def myGradientDescentFun(X_train,X_test,y_train,y_test,learning_rate,epoches,batchsize):\n",
    "    \n",
    "    # create random weights\n",
    "    w = 20 * np.random.rand(X_train.shape[1], 1) - 10\n",
    "    \n",
    "    # stores the training loss at first index and \n",
    "    # the testing loss at second index\n",
    "    loss = [list(), list()]\n",
    "    \n",
    "    for _ in range(epoches):\n",
    "            \n",
    "        # loss and loss gradient share this calculation\n",
    "        # calculating here saves operations\n",
    "        u = y_train - np.matmul(X_train, w)\n",
    "        v = y_test - np.matmul(X_test, w)\n",
    "        \n",
    "        # store loss from training data\n",
    "        loss[0].append(np.matmul(np.transpose(u), u)[0][0] / len(X_train))\n",
    "        \n",
    "        # store loss from testing data\n",
    "        loss[1].append(np.matmul(np.transpose(v), v)[0][0] / len(X_test))\n",
    "        \n",
    "        # train in batches\n",
    "        for b in range(0,len(X_train),batchsize):\n",
    "            \n",
    "            # take a step opposite the gradient value\n",
    "            w = w + learning_rate * np.sign(np.matmul(np.transpose(X_train[b:b + batchsize]), u[b:b + batchsize]))\n",
    "        \n",
    "    return w, loss\n",
    "\n",
    "# Task 4-2: Implement a function performing prediction\n",
    "# Inputs: Testing data and weights\n",
    "# Output: Predictions\n",
    "def myPredictFun(X,w):\n",
    "    return np.matmul(X, w)\n",
    "\n",
    "# Here we insert a column of 1s into training_data and test_data (to be consistent with our lecture slides)\n",
    "train_data_intercept = np.insert(train_data, 0, 1, axis=1)\n",
    "test_data_intercept = np.insert(test_data, 0, 1, axis=1)\n",
    "\n",
    "# Here we call myGradientDescentFun to train the model and get weights\n",
    "# Note: you need to figure out good learning rate value and the number of iterations    \n",
    "w, loss = myGradientDescentFun(train_data_intercept,test_data_intercept,train_target,test_target,0.01,100,10)\n",
    "    \n",
    "# Task 4-3: show intercept and coefficents\n",
    "for i in range(len(w)):\n",
    "   print(\"W{:<2}: {:.5f}\".format(i, w[i][0]))\n",
    "\n",
    "# # Task 4-4: show errors on training dataset and testing dataset\n",
    "train_predict = myPredictFun(train_data_intercept, w)\n",
    "test_predict = myPredictFun(test_data_intercept, w)\n",
    "train_error = mean_squared_error(train_predict, train_target) / 2\n",
    "test_error = mean_squared_error(test_predict, test_target) / 2\n",
    "\n",
    "print('Training Set MSE: {:.5f}'.format(train_error))\n",
    "print('Test Set MSE: {:.5f}'.format(test_error))\n",
    "\n",
    "# Task 4-5: plot learning curves showing training errors and testing errors along both\n",
    "plt.plot(range(len(loss[0])), loss[0], color='blue')  # training loss\n",
    "plt.plot(range(len(loss[1])), loss[1], color='green') # testing loss\n",
    "plt.ylabel('Loss')\n",
    "plt.xlabel('Epochs')\n",
    "plt.title('Training Progress over Epochs')\n",
    "plt.gca().legend(('Train', 'Test'))\n",
    "plt.show()"
   ]
  },
  {
   "cell_type": "code",
   "execution_count": null,
   "metadata": {},
   "outputs": [],
   "source": []
  }
 ],
 "metadata": {
  "colab": {
   "collapsed_sections": [],
   "name": "Assignment 1.ipynb",
   "provenance": []
  },
  "kernelspec": {
   "display_name": "Python 3",
   "language": "python",
   "name": "python3"
  },
  "language_info": {
   "codemirror_mode": {
    "name": "ipython",
    "version": 3
   },
   "file_extension": ".py",
   "mimetype": "text/x-python",
   "name": "python",
   "nbconvert_exporter": "python",
   "pygments_lexer": "ipython3",
   "version": "3.7.3"
  }
 },
 "nbformat": 4,
 "nbformat_minor": 1
}
